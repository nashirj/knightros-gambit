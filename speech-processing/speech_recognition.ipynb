{
 "cells": [
  {
   "cell_type": "markdown",
   "id": "7e39999f",
   "metadata": {},
   "source": [
    "# Demo speech recognition"
   ]
  },
  {
   "cell_type": "code",
   "execution_count": 12,
   "id": "bdef6c77",
   "metadata": {},
   "outputs": [],
   "source": [
    "import speech_recognition as sr"
   ]
  },
  {
   "cell_type": "code",
   "execution_count": 13,
   "id": "f1828da8",
   "metadata": {},
   "outputs": [
    {
     "name": "stdout",
     "output_type": "stream",
     "text": [
      "a2a4.wav  b3d7.wav  requirements.txt  speech_recognition.ipynb\r\n"
     ]
    }
   ],
   "source": [
    "!ls"
   ]
  },
  {
   "cell_type": "code",
   "execution_count": 14,
   "id": "017b6464",
   "metadata": {},
   "outputs": [],
   "source": [
    "def recognize_audio(filename):\n",
    "    with sr.AudioFile(filename) as source:\n",
    "\n",
    "        audio = r.listen(source)\n",
    "        try:\n",
    "            # for testing purposes, we're just using the default API key\n",
    "            # to use another API key, use `r.recognize_google(audio, key=\"GOOGLE_SPEECH_RECOGNITION_API_KEY\")`\n",
    "            # instead of `r.recognize_google(audio)`\n",
    "            print(\"Google Speech Recognition thinks you said:\\n\\t\" + r.recognize_google(audio))\n",
    "        except sr.UnknownValueError:\n",
    "            print(\"Google Speech Recognition could not understand audio\")\n",
    "        except sr.RequestError as e:\n",
    "            print(\"Could not request results from Google Speech Recognition service; {0}\".format(e))"
   ]
  },
  {
   "cell_type": "code",
   "execution_count": 15,
   "id": "7c45a686",
   "metadata": {},
   "outputs": [],
   "source": [
    "# Initialize recognizer class (for recognizing the speech)\n",
    "r = sr.Recognizer()"
   ]
  },
  {
   "cell_type": "code",
   "execution_count": 16,
   "id": "5a23e4bc",
   "metadata": {},
   "outputs": [
    {
     "name": "stdout",
     "output_type": "stream",
     "text": [
      "Google Speech Recognition thinks you said:\n",
      "\t8284\n"
     ]
    }
   ],
   "source": [
    "recognize_audio('a2a4.wav')"
   ]
  },
  {
   "cell_type": "code",
   "execution_count": 17,
   "id": "efe0553d",
   "metadata": {},
   "outputs": [
    {
     "name": "stdout",
     "output_type": "stream",
     "text": [
      "Google Speech Recognition thinks you said:\n",
      "\tB3 D7\n"
     ]
    }
   ],
   "source": [
    "recognize_audio('b3d7.wav')"
   ]
  },
  {
   "cell_type": "code",
   "execution_count": 18,
   "id": "ff8b47e9",
   "metadata": {},
   "outputs": [],
   "source": [
    "def parse_speech_to_text():\n",
    "    with sr.Microphone() as source:\n",
    "        print(\"Talk\")\n",
    "        audio_text = r.listen(source)\n",
    "        print(\"Processing...\")\n",
    "\n",
    "        try:\n",
    "            # using google speech recognition\n",
    "            text = r.recognize_google(audio_text)\n",
    "            print(\"Text: \" + text)\n",
    "            return text\n",
    "        except Exception as e:\n",
    "            print(e)\n",
    "            print(\"Sorry, I did not get that\")\n",
    "            return None"
   ]
  },
  {
   "cell_type": "code",
   "execution_count": 22,
   "id": "75440a11",
   "metadata": {},
   "outputs": [
    {
     "name": "stdout",
     "output_type": "stream",
     "text": [
      "Talk\n",
      "Processing...\n",
      "Text: C8 G4\n",
      "<speech_recognition.AudioData object at 0x7f0f1c3359a0>\n"
     ]
    }
   ],
   "source": [
    "print(parse_speech_to_text())"
   ]
  },
  {
   "cell_type": "code",
   "execution_count": 9,
   "id": "95f31619",
   "metadata": {},
   "outputs": [
    {
     "name": "stdout",
     "output_type": "stream",
     "text": [
      "c8g4\n"
     ]
    }
   ],
   "source": [
    "def parse_transcript_to_move(transcript):\n",
    "    '''\n",
    "    This method parses strings of the form [A-Z/a-z, 1-9, ' ', A-Z/a-z, 1-9].\n",
    "    It returns strings of the form [a-z, 1-9, a-z, 1-9], i.e. the algebraic\n",
    "    notation expected by the stockfish engine.\n",
    "    '''\n",
    "    if len(transcript) != 5:\n",
    "        print(\"couldn't generate notation from input:\", transcript)\n",
    "    return \"\".join([m.lower() for m in s.split(' ')])\n",
    "\n",
    "s = \"C8 G4\"\n",
    "print(parse_transcript_to_move(s))"
   ]
  },
  {
   "cell_type": "code",
   "execution_count": null,
   "id": "463df99d",
   "metadata": {},
   "outputs": [],
   "source": []
  }
 ],
 "metadata": {
  "kernelspec": {
   "display_name": "Python 3 (ipykernel)",
   "language": "python",
   "name": "python3"
  },
  "language_info": {
   "codemirror_mode": {
    "name": "ipython",
    "version": 3
   },
   "file_extension": ".py",
   "mimetype": "text/x-python",
   "name": "python",
   "nbconvert_exporter": "python",
   "pygments_lexer": "ipython3",
   "version": "3.9.7"
  }
 },
 "nbformat": 4,
 "nbformat_minor": 5
}
