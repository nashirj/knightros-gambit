{
 "cells": [
  {
   "cell_type": "markdown",
   "id": "7e39999f",
   "metadata": {},
   "source": [
    "# Demo speech recognition"
   ]
  },
  {
   "cell_type": "code",
   "execution_count": 1,
   "id": "bdef6c77",
   "metadata": {},
   "outputs": [],
   "source": [
    "import speech_recognition as sr"
   ]
  },
  {
   "cell_type": "code",
   "execution_count": 2,
   "id": "f1828da8",
   "metadata": {},
   "outputs": [
    {
     "name": "stdout",
     "output_type": "stream",
     "text": [
      "come_on_1.wav  speech_recognition.ipynb\r\n"
     ]
    }
   ],
   "source": [
    "!ls"
   ]
  },
  {
   "cell_type": "code",
   "execution_count": 5,
   "id": "a6a67377",
   "metadata": {},
   "outputs": [],
   "source": [
    "def recognize_audio(filename):\n",
    "    with sr.AudioFile(filename) as source:\n",
    "\n",
    "        audio = r.listen(source)\n",
    "        try:\n",
    "            # for testing purposes, we're just using the default API key\n",
    "            # to use another API key, use `r.recognize_google(audio, key=\"GOOGLE_SPEECH_RECOGNITION_API_KEY\")`\n",
    "            # instead of `r.recognize_google(audio)`\n",
    "            print(\"Google Speech Recognition thinks you said:\\n\\t\" + r.recognize_google(audio))\n",
    "        except sr.UnknownValueError:\n",
    "            print(\"Google Speech Recognition could not understand audio\")\n",
    "        except sr.RequestError as e:\n",
    "            print(\"Could not request results from Google Speech Recognition service; {0}\".format(e))"
   ]
  },
  {
   "cell_type": "code",
   "execution_count": 7,
   "id": "7c45a686",
   "metadata": {},
   "outputs": [],
   "source": [
    "# Initialize recognizer class (for recognizing the speech)\n",
    "r = sr.Recognizer()"
   ]
  },
  {
   "cell_type": "code",
   "execution_count": 8,
   "id": "302b0637",
   "metadata": {},
   "outputs": [
    {
     "name": "stdout",
     "output_type": "stream",
     "text": [
      "Google Speech Recognition thinks you said:\n",
      "\tcome on\n"
     ]
    }
   ],
   "source": [
    "recognize_audio('come_on_1.wav')"
   ]
  },
  {
   "cell_type": "code",
   "execution_count": 11,
   "id": "6b3c0fa2",
   "metadata": {},
   "outputs": [
    {
     "name": "stdout",
     "output_type": "stream",
     "text": [
      "Google Speech Recognition thinks you said:\n",
      "\t8284\n"
     ]
    }
   ],
   "source": [
    "recognize_audio('a2a4.wav')"
   ]
  },
  {
   "cell_type": "code",
   "execution_count": 12,
   "id": "6d8549e1",
   "metadata": {},
   "outputs": [
    {
     "name": "stdout",
     "output_type": "stream",
     "text": [
      "Google Speech Recognition thinks you said:\n",
      "\tB3 D7\n"
     ]
    }
   ],
   "source": [
    "recognize_audio('b3d7.wav')"
   ]
  },
  {
   "cell_type": "code",
   "execution_count": null,
   "id": "aafe2953",
   "metadata": {},
   "outputs": [],
   "source": []
  }
 ],
 "metadata": {
  "kernelspec": {
   "display_name": "Python 3 (ipykernel)",
   "language": "python",
   "name": "python3"
  },
  "language_info": {
   "codemirror_mode": {
    "name": "ipython",
    "version": 3
   },
   "file_extension": ".py",
   "mimetype": "text/x-python",
   "name": "python",
   "nbconvert_exporter": "python",
   "pygments_lexer": "ipython3",
   "version": "3.9.7"
  }
 },
 "nbformat": 4,
 "nbformat_minor": 5
}
