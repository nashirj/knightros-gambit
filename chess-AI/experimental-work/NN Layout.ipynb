{
 "cells": [
  {
   "cell_type": "code",
   "execution_count": null,
   "metadata": {},
   "outputs": [],
   "source": [
    "# this is the jupyter notebook for the nueral network\n",
    "# we will use this to test out different architectures and put together our model"
   ]
  },
  {
   "cell_type": "code",
   "execution_count": 26,
   "metadata": {},
   "outputs": [],
   "source": [
    "import torch\n",
    "import numpy as np\n",
    "from torch import nn\n",
    "import torch.nn.functional as F\n",
    "import torchvision"
   ]
  },
  {
   "cell_type": "code",
   "execution_count": 27,
   "metadata": {},
   "outputs": [],
   "source": [
    "class PlayNetwork(nn.Module):\n",
    "    def __init__(self):\n",
    "        super().__init__()\n",
    "        \n",
    "        # Basic layout for AI CNN, still need to polish the value head and BatchNorm2d input sizes.\n",
    "        \n",
    "        # Reference: Alpha Zero Paper pg. 13-14\n",
    "        # Input conv layer takes (MT + L) channels of input, each channel with N * N dimensions.\n",
    "        # N = 8 representing the dimensions of the chess board,\n",
    "        # M = 14 representing the 12 channels of the position of each piece type and 2 channels for repetition,\n",
    "        # T = 8 representing the number of past moves to consider,\n",
    "        # L = 7 representing the number of constant number planes besides repetition such as castling, move count, etc.\n",
    "        self.conv1 = nn.Conv2d(in_channels=119, out_channels=256, kernel_size=3, padding=1)\n",
    "        self.bn = nn.BatchNorm2d(21)\n",
    "        \n",
    "        # Each conv layer in a residual block uses 256 3x3 filters, padding used to keep the channel dimensions constant.\n",
    "        self.resBlock = nn.Sequential(nn.Conv2d(in_channels=256, out_channels=256, kernel_size=3, padding=1), \n",
    "                                    nn.BatchNorm2d(21), \n",
    "                                    nn.ReLU(inplace=True), \n",
    "                                    nn.Conv2d(in_channels=256, out_channels=256, kernel_size=3, padding=1), \n",
    "                                    nn.BatchNorm2d(21))\n",
    "        \n",
    "        # Use 2 1x1 filters to convolve input channels to 2 output channels, one representing piece\n",
    "        # to move, and the other representing move to take out from possible moves.\n",
    "        # Use them to pick move from possible moves, represented by 73 channels of 8x8, or 4672 possible moves.\n",
    "        self.policyHead = nn.Sequential(nn.Conv2d(in_channels=256, out_channels=2, kernel_size=1, padding=1),\n",
    "                                       nn.BatchNorm2d(2),\n",
    "                                       nn.ReLU(inplace=True),\n",
    "                                       nn.Linear(in_features=2, out_features=73))\n",
    "        \n",
    "        self.valueHead = nn.Sequential(nn.Conv2d(in_channels=256, out_channels=1, kernel_size=1),\n",
    "                                       nn.BatchNorm2d(1),\n",
    "                                       nn.ReLU(inplace=True),\n",
    "                                       nn.Linear(in_features=1, out_features=256),\n",
    "                                       nn.ReLU(inplace=True),\n",
    "                                       nn.Linear(in_features=256, out_features=1),\n",
    "                                       nn.Tanh())\n",
    "\n",
    "        \n",
    "\n",
    "    def forward(self, x):\n",
    "        x = self.conv1(x)\n",
    "        \n",
    "        # Go through all the residual blocks and add the input of the block to the output before regularization.\n",
    "        for numRes in range(1):\n",
    "            shortcut = x\n",
    "            x = resBlock(x)\n",
    "            x = nn.ReLU(x + shortcut)\n",
    "        \n",
    "        value_out = self.valueHead(x)\n",
    "        policy_out = self.policyHead(x)\n",
    "        \n",
    "        return (policy_out, value_out)\n",
    "    "
   ]
  },
  {
   "cell_type": "code",
   "execution_count": 28,
   "metadata": {},
   "outputs": [],
   "source": [
    "# model = PlayNetwork()\n",
    "# policy, value = model()"
   ]
  },
  {
   "cell_type": "code",
   "execution_count": null,
   "metadata": {},
   "outputs": [],
   "source": []
  }
 ],
 "metadata": {
  "kernelspec": {
   "display_name": "Python 3 (ipykernel)",
   "language": "python",
   "name": "python3"
  },
  "language_info": {
   "codemirror_mode": {
    "name": "ipython",
    "version": 3
   },
   "file_extension": ".py",
   "mimetype": "text/x-python",
   "name": "python",
   "nbconvert_exporter": "python",
   "pygments_lexer": "ipython3",
   "version": "3.8.6"
  }
 },
 "nbformat": 4,
 "nbformat_minor": 4
}
