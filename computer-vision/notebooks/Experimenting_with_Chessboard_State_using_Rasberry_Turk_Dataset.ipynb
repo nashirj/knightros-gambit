{
  "nbformat": 4,
  "nbformat_minor": 0,
  "metadata": {
    "colab": {
      "name": "Experimenting with Chessboard State using Rasberry Turk Dataset.ipynb",
      "provenance": [],
      "collapsed_sections": []
    },
    "kernelspec": {
      "name": "python3",
      "display_name": "Python 3"
    },
    "language_info": {
      "name": "python"
    }
  },
  "cells": [
    {
      "cell_type": "markdown",
      "source": [
        "So in the original dataset the author created a raw.zip file with all the images, however the link to it (https://www.kaggle.com/joeymeyer/raspberryturk/downloads/raw.zip) returns a 404 message but I able to find a smaller subset someone had saved here (https://www.reddit.com/r/computervision/comments/60fy6w/any_tutorial_for_using_svm_or_any_other_similar/dfgo3d5/) so that is what will be used in the notebook."
      ],
      "metadata": {
        "id": "rFGNJcFu0oaT"
      }
    },
    {
      "cell_type": "code",
      "source": [
        "import numpy as np\n",
        "from numpy import load"
      ],
      "metadata": {
        "id": "dzAEhXDa8MMQ"
      },
      "execution_count": 6,
      "outputs": []
    },
    {
      "cell_type": "code",
      "source": [
        "data = np.load('chess_piece_presence_sample.npz')"
      ],
      "metadata": {
        "id": "BHk3uMw-8VgJ"
      },
      "execution_count": null,
      "outputs": []
    },
    {
      "cell_type": "code",
      "source": [
        "import cv2\n",
        "\n",
        "def convert_imgs(X):\n",
        "    norm_imgs = X.reshape((-1,60,60,3))\n",
        "    bgr_imgs = ((norm_imgs + 1.0) * 127.5).astype(np.uint8)\n",
        "    return np.array([cv2.cvtColor(bgr_img, cv2.COLOR_BGR2RGB) for bgr_img in bgr_imgs])\n",
        "\n",
        "imgs = convert_imgs(d.X_train)\n",
        "validation_imgs = convert_imgs(d.X_val)\n",
        "label_names = [\"Empty\", \"Green\", \"Orange\"]"
      ],
      "metadata": {
        "id": "F4R0vHPX-Ip1"
      },
      "execution_count": null,
      "outputs": []
    },
    {
      "cell_type": "code",
      "source": [
        "import matplotlib.pyplot as plt\n",
        "\n",
        "def plot_image(img_index, validation=False, title=None):\n",
        "    img = (validation_imgs if validation else imgs)[img_index]\n",
        "    if title is None:\n",
        "        label = (d.y_val if validation else d.y_train)[img_index]\n",
        "        title = label_names[label]\n",
        "    plt.title(title)\n",
        "    plt.imshow(img)\n",
        "    plt.show()"
      ],
      "metadata": {
        "id": "IvKDFzfJ-oiZ"
      },
      "execution_count": null,
      "outputs": []
    },
    {
      "cell_type": "code",
      "source": [
        "x_kern = np.arange(0, 4, 1, float)\n",
        "y_kern = x_kern[:,np.newaxis]\n",
        "x_kern0 = y_kern0 = 4 // 2\n",
        "OPENING_KERNEL = np.uint8(np.exp(-4*np.log(2) * ((x_kern-x_kern0)**2 + (y_kern-y_kern0)**2) / 2**2) * 255)\n",
        "\n",
        "def mask(img, lower, upper):\n",
        "    hsv = cv2.cvtColor(img, cv2.COLOR_RGB2HSV)\n",
        "    mask = cv2.inRange(hsv, lower, upper)\n",
        "    opening = cv2.morphologyEx(mask, cv2.MORPH_OPEN, OPENING_KERNEL)\n",
        "    closing = cv2.morphologyEx(opening, cv2.MORPH_CLOSE, OPENING_KERNEL)\n",
        "    return closing"
      ],
      "metadata": {
        "id": "Gv-r62fH-oco"
      },
      "execution_count": null,
      "outputs": []
    },
    {
      "cell_type": "code",
      "source": [
        "# HSV Color Ranges\n",
        "GREEN_LOWER = (40,100,45)\n",
        "GREEN_UPPER = (120,255,255)\n",
        "ORANGE_LOWER = (0,100,64)\n",
        "ORANGE_UPPER = (20,255,255)\n",
        "\n",
        "def green_mask(img):\n",
        "    return mask(img, GREEN_LOWER, GREEN_UPPER)\n",
        "\n",
        "def orange_mask(img):\n",
        "    return mask(img, ORANGE_LOWER, ORANGE_UPPER)\n",
        "\n",
        "def combined_mask(img):\n",
        "    return green_mask(img) + orange_mask(img)"
      ],
      "metadata": {
        "id": "vNpYna00-wcl"
      },
      "execution_count": null,
      "outputs": []
    },
    {
      "cell_type": "code",
      "source": [
        "c = np.zeros((400, 400, 3), dtype=np.uint8)\n",
        "start_index = 1000\n",
        "for i in range(start_index, start_index + 200):\n",
        "    img = imgs[i]\n",
        "    mask_img = cv2.bitwise_or(green_mask(img), orange_mask(img))\n",
        "    x = (i % 10) * 40\n",
        "    y = ((i % 200) / 10) * 20\n",
        "    c[y:y+20,x:x+20,:] = cv2.resize(img, (20,20))\n",
        "    c[y:y+20,x+20:x+40,0] = cv2.resize(mask_img, (20,20))\n",
        "plt.figure(figsize=(10,10))\n",
        "plt.axis('off')\n",
        "plt.imshow(c)\n",
        "plt.show()"
      ],
      "metadata": {
        "id": "gnTIsJpH-xQf"
      },
      "execution_count": null,
      "outputs": []
    },
    {
      "cell_type": "code",
      "source": [
        "def predict(img):\n",
        "    threshold = 5.0\n",
        "    if np.sum(green_mask(img)) > threshold:\n",
        "        return 1\n",
        "    elif np.sum(orange_mask(img)) > threshold:\n",
        "        return 2\n",
        "    else:\n",
        "        return 0"
      ],
      "metadata": {
        "id": "I_ShQHH7-zU9"
      },
      "execution_count": null,
      "outputs": []
    },
    {
      "cell_type": "code",
      "source": [
        "pred = [predict(img) for img in validation_imgs]\n",
        "a = np.sum(pred == d.y_val) / float(d.y_val.shape[0])\n",
        "print \"Accuracy: {}\".format(a)"
      ],
      "metadata": {
        "id": "c6pB8y3c-2Tg"
      },
      "execution_count": null,
      "outputs": []
    },
    {
      "cell_type": "code",
      "source": [
        "from sklearn.metrics import confusion_matrix\n",
        "from helpers import plot_confusion_matrix\n",
        "\n",
        "conf = confusion_matrix(d.y_val, pred)\n",
        "plot_confusion_matrix(conf, classes=label_names)"
      ],
      "metadata": {
        "id": "gE-y2WIr-4YK"
      },
      "execution_count": null,
      "outputs": []
    },
    {
      "cell_type": "code",
      "source": [
        "image_index = 405\n",
        "actual_label = label_names[d.y_val[image_index]]\n",
        "predicted_label = label_names[predict(validation_imgs[image_index])]\n",
        "title = \"Actual: {} Predicted: {}\".format(actual_label, predicted_label)\n",
        "plot_image(image_index, validation=True, title=title)"
      ],
      "metadata": {
        "id": "LSO1TDY5-8hg"
      },
      "execution_count": null,
      "outputs": []
    },
    {
      "cell_type": "code",
      "source": [
        "size = imgs.shape[1]\n",
        "x = np.arange(0, size, 1, float)\n",
        "y = x[:,np.newaxis]\n",
        "x0 = y0 = size // 2\n",
        "MASK_WEIGHTS = np.exp(-4*np.log(2) * ((x-x0)**2 + (y-y0)**2) / (size*0.15)**2)\n",
        "\n",
        "def weighted_orange_mask(img):\n",
        "    return orange_mask(img) * MASK_WEIGHTS\n",
        "\n",
        "def weighted_green_mask(img):\n",
        "    return green_mask(img) * MASK_WEIGHTS\n",
        "\n",
        "def weighted_predict(img):\n",
        "    threshold = 5.0\n",
        "    if np.sum(weighted_green_mask(img)) > threshold:\n",
        "        return 1\n",
        "    elif np.sum(weighted_orange_mask(img)) > threshold:\n",
        "        return 2\n",
        "    else:\n",
        "        return 0"
      ],
      "metadata": {
        "id": "mEaAuowV--tP"
      },
      "execution_count": null,
      "outputs": []
    },
    {
      "cell_type": "code",
      "source": [
        "weighted_pred = [weighted_predict(img) for img in validation_imgs]\n",
        "a = np.sum(weighted_pred == d.y_val) / float(d.y_val.shape[0])\n",
        "print \"Accuracy: {}\".format(a)"
      ],
      "metadata": {
        "id": "h5boqhAq_A85"
      },
      "execution_count": null,
      "outputs": []
    },
    {
      "cell_type": "code",
      "source": [
        "conf = confusion_matrix(d.y_val, weighted_pred)\n",
        "plot_confusion_matrix(conf, classes=label_names)"
      ],
      "metadata": {
        "id": "HSg3KJEB_C2s"
      },
      "execution_count": null,
      "outputs": []
    },
    {
      "cell_type": "markdown",
      "source": [
        "Using Machine Learing to detect chessboard state"
      ],
      "metadata": {
        "id": "zRbW-EFw_F49"
      }
    },
    {
      "cell_type": "code",
      "source": [
        "from sklearn.decomposition import PCA\n",
        "\n",
        "pca = PCA(n_components=16, whiten=True)\n",
        "pca.fit(d.X_train)\n",
        "X_train_pca = pca.transform(d.X_train)\n",
        "X_val_pca = pca.transform(d.X_val)"
      ],
      "metadata": {
        "id": "HkafUhar_MY2"
      },
      "execution_count": null,
      "outputs": []
    },
    {
      "cell_type": "code",
      "source": [
        "from matplotlib import cm\n",
        "from matplotlib.patches import Patch\n",
        "\n",
        "X_plot = X_train_pca[:300]\n",
        "y_plot = d.y_train[:300]\n",
        "\n",
        "sc = plt.scatter(X_plot[:,4], X_plot[:,8], c=y_plot, cmap=cm.cool, linewidths=0.4)\n",
        "occupied_patch = Patch(color='#ff30ff', label='Occupied')\n",
        "empty_patch = Patch(color='#30ffff', label='Empty')\n",
        "white_patch = Patch(color='#9898FF', label='White')\n",
        "black_patch = Patch(color='#ff30ff', label='Black')\n",
        "plt.legend(handles=[empty_patch, white_patch, black_patch])\n",
        "plt.show()"
      ],
      "metadata": {
        "id": "gvqEf_-X_Qkw"
      },
      "execution_count": null,
      "outputs": []
    },
    {
      "cell_type": "code",
      "source": [
        "from sklearn.svm import SVC\n",
        "\n",
        "svc = SVC()\n",
        "svc.fit(X_train_pca, d.y_train)"
      ],
      "metadata": {
        "id": "OrQVqg_G_SmD"
      },
      "execution_count": null,
      "outputs": []
    },
    {
      "cell_type": "code",
      "source": [
        "SVC(C=1.0, cache_size=200, class_weight=None, coef0=0.0,\n",
        "  decision_function_shape=None, degree=3, gamma='auto', kernel='rbf',\n",
        "  max_iter=-1, probability=False, random_state=None, shrinking=True,\n",
        "  tol=0.001, verbose=False)"
      ],
      "metadata": {
        "id": "uYxyfCJI_UYs"
      },
      "execution_count": null,
      "outputs": []
    },
    {
      "cell_type": "code",
      "source": [
        "svc_pred = svc.predict(X_val_pca)\n",
        "a = np.sum(svc_pred == d.y_val) / float(d.y_val.shape[0])\n",
        "print \"Accuracy: {}\".format(a)"
      ],
      "metadata": {
        "id": "-VFvSuG9_V7K"
      },
      "execution_count": null,
      "outputs": []
    },
    {
      "cell_type": "code",
      "source": [
        "conf = confusion_matrix(d.y_val, svc_pred)\n",
        "plot_confusion_matrix(conf, classes=label_names)"
      ],
      "metadata": {
        "id": "HBCm6wWc_XgC"
      },
      "execution_count": null,
      "outputs": []
    },
    {
      "cell_type": "code",
      "source": [
        "import pickle\n",
        "\n",
        "with open(project.path('data', 'processed', 'square_color_detector3.pca'), 'w') as f:\n",
        "    pickle.dump(pca, f)\n",
        "\n",
        "with open(project.path('data', 'processed', 'square_color_detector3.svc'), 'w') as f:\n",
        "    pickle.dump(svc, f)"
      ],
      "metadata": {
        "id": "ruvQw-4w_ZRN"
      },
      "execution_count": null,
      "outputs": []
    }
  ]
}