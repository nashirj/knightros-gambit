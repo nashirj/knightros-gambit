{
  "nbformat": 4,
  "nbformat_minor": 0,
  "metadata": {
    "colab": {
      "name": "Experimenting_With_Chess_Piece_Presence.ipynb",
      "provenance": [],
      "collapsed_sections": []
    },
    "kernelspec": {
      "name": "python3",
      "display_name": "Python 3"
    },
    "language_info": {
      "name": "python"
    }
  },
  "cells": [
    {
      "cell_type": "markdown",
      "source": [
        "#More Experiments with the Dataset from Raspberry Turk Project."
      ],
      "metadata": {
        "id": "hyBFsXtgZvvK"
      }
    },
    {
      "cell_type": "code",
      "execution_count": 4,
      "metadata": {
        "id": "kiICQMHyRbG2"
      },
      "outputs": [],
      "source": [
        "import cv2\n",
        "import numpy as np\n",
        "import matplotlib.pyplot as plt\n",
        "from sklearn.metrics import confusion_matrix"
      ]
    },
    {
      "cell_type": "markdown",
      "source": [
        "I am assume that the pieces will be black and gold, however if they are differing colors the code can be updated."
      ],
      "metadata": {
        "id": "MEy2gzPVcRns"
      }
    },
    {
      "cell_type": "markdown",
      "source": [
        "Now in the original, the author included these functions:\n",
        "*   from raspberryturk.core.data.dataset import Dataset\n",
        "*   d = Dataset.load_file(project.path('data', 'processed', 'chess_piece_presence.npz'))\n",
        "\n",
        "Now since the goal is to make a general version for our purpose, I'm not sure how to handle this; I assume we may eventually create our own dataset for testing purposes but for now I just left them as is."
      ],
      "metadata": {
        "id": "OSodRGIXjy59"
      }
    },
    {
      "cell_type": "code",
      "source": [
        "def convert_imgs(X):\n",
        "    norm_imgs = X.reshape((-1,60,60,3))\n",
        "    bgr_imgs = ((norm_imgs + 1.0) * 127.5).astype(np.uint8)\n",
        "    return np.array([cv2.cvtColor(bgr_img, cv2.COLOR_BGR2RGB) for bgr_img in bgr_imgs])\n",
        "\n",
        "imgs = convert_imgs(d.X_train)\n",
        "validation_imgs = convert_imgs(d.X_val)\n",
        "label_names = [\"Empty\", \"Black\", \"Gold\"]"
      ],
      "metadata": {
        "id": "XUIYiwEgcFdG"
      },
      "execution_count": null,
      "outputs": []
    },
    {
      "cell_type": "code",
      "source": [
        "def plot_image(img_index, validation=False, title=None):\n",
        "    img = (validation_imgs if validation else imgs)[img_index]\n",
        "    if title is None:\n",
        "        label = (d.y_val if validation else d.y_train)[img_index]\n",
        "        title = label_names[label]\n",
        "    plt.title(title)\n",
        "    plt.imshow(img)\n",
        "    plt.show()"
      ],
      "metadata": {
        "id": "V5irbUrtfQgD"
      },
      "execution_count": null,
      "outputs": []
    },
    {
      "cell_type": "code",
      "source": [
        "x_kern = np.arange(0, 4, 1, float)\n",
        "y_kern = x_kern[:,np.newaxis]\n",
        "x_kern0 = y_kern0 = 4 // 2\n",
        "OPENING_KERNEL = np.uint8(np.exp(-4*np.log(2) * ((x_kern-x_kern0)**2 + (y_kern-y_kern0)**2) / 2**2) * 255)\n",
        "\n",
        "def mask(img, lower, upper):\n",
        "    hsv = cv2.cvtColor(img, cv2.COLOR_RGB2HSV)\n",
        "    mask = cv2.inRange(hsv, lower, upper)\n",
        "    opening = cv2.morphologyEx(mask, cv2.MORPH_OPEN, OPENING_KERNEL)\n",
        "    closing = cv2.morphologyEx(opening, cv2.MORPH_CLOSE, OPENING_KERNEL)\n",
        "    return closing"
      ],
      "metadata": {
        "id": "FWAXa4BkfVc4"
      },
      "execution_count": null,
      "outputs": []
    },
    {
      "cell_type": "markdown",
      "source": [
        "We may want to consider making a function to convert RBG values to HSV as I've been seeing differing values for the HSV of gold and creating the function may allow us to have the most accurate range. There's a few I've seen so I'll review and see which is better for our case."
      ],
      "metadata": {
        "id": "Li9g7btmixhV"
      }
    },
    {
      "cell_type": "code",
      "source": [
        "# HSV Color Ranges\n",
        "BLACK_LOWER = (0,0,0)\n",
        "BLACK_UPPER = (180,255,30)\n",
        "GOLD_LOWER = (238, 188, 29)\n",
        "GOLD_UPPER = (241, 229, 172)\n",
        "\n",
        "def black_mask(img):\n",
        "    return mask(img, BLACK_LOWER, BLACK_UPPER)\n",
        "\n",
        "def gold_mask(img):\n",
        "    return mask(img, GOLD_LOWER, GOLD_UPPER)\n",
        "\n",
        "def combined_mask(img):\n",
        "    return black_mask(img) + gold_mask(img)"
      ],
      "metadata": {
        "id": "sO97BNLFfWmg"
      },
      "execution_count": null,
      "outputs": []
    },
    {
      "cell_type": "code",
      "source": [
        "c = np.zeros((400, 400, 3), dtype=np.uint8)\n",
        "start_index = 1000\n",
        "for i in range(start_index, start_index + 200):\n",
        "    img = imgs[i]\n",
        "    mask_img = cv2.bitwise_or(black_mask(img), gold_mask(img))\n",
        "    x = (i % 10) * 40\n",
        "    y = ((i % 200) / 10) * 20\n",
        "    c[y:y+20,x:x+20,:] = cv2.resize(img, (20,20))\n",
        "    c[y:y+20,x+20:x+40,0] = cv2.resize(mask_img, (20,20))\n",
        "plt.figure(figsize=(10,10))\n",
        "plt.axis('off')\n",
        "plt.imshow(c)\n",
        "plt.show()"
      ],
      "metadata": {
        "id": "a6sUzS5TjBUo"
      },
      "execution_count": null,
      "outputs": []
    },
    {
      "cell_type": "code",
      "source": [
        "def predict(img):\n",
        "    threshold = 5.0\n",
        "    if np.sum(black_mask(img)) > threshold:\n",
        "        return 1\n",
        "    elif np.sum(gold_mask(img)) > threshold:\n",
        "        return 2\n",
        "    else:\n",
        "        return 0"
      ],
      "metadata": {
        "id": "5wmTq70amRqd"
      },
      "execution_count": null,
      "outputs": []
    },
    {
      "cell_type": "code",
      "source": [
        "image_index = 405\n",
        "actual_label = label_names[d.y_val[image_index]]\n",
        "predicted_label = label_names[predict(validation_imgs[image_index])]\n",
        "title = \"Actual: {} Predicted: {}\".format(actual_label, predicted_label)\n",
        "plot_image(image_index, validation=True, title=title)"
      ],
      "metadata": {
        "id": "zV27nkkBmU7a"
      },
      "execution_count": null,
      "outputs": []
    },
    {
      "cell_type": "code",
      "source": [
        "size = imgs.shape[1]\n",
        "x = np.arange(0, size, 1, float)\n",
        "y = x[:,np.newaxis]\n",
        "x0 = y0 = size // 2\n",
        "MASK_WEIGHTS = np.exp(-4*np.log(2) * ((x-x0)**2 + (y-y0)**2) / (size*0.15)**2)\n",
        "\n",
        "def weighted_gold_mask(img):\n",
        "    return gold_mask(img) * MASK_WEIGHTS\n",
        "\n",
        "def weighted_black_mask(img):\n",
        "    return black_mask(img) * MASK_WEIGHTS\n",
        "\n",
        "def weighted_predict(img):\n",
        "    threshold = 5.0\n",
        "    if np.sum(weighted_black_mask(img)) > threshold:\n",
        "        return 1\n",
        "    elif np.sum(weighted_gold_mask(img)) > threshold:\n",
        "        return 2\n",
        "    else:\n",
        "        return 0"
      ],
      "metadata": {
        "id": "fAyozkYmmZch"
      },
      "execution_count": null,
      "outputs": []
    }
  ]
}